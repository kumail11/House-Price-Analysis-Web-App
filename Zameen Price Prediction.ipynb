{
 "cells": [
  {
   "cell_type": "markdown",
   "id": "4d297694",
   "metadata": {},
   "source": [
    "## Import Libraries"
   ]
  },
  {
   "cell_type": "code",
   "execution_count": 1,
   "id": "609c6de1",
   "metadata": {},
   "outputs": [],
   "source": [
    "import numpy as np\n",
    "import pandas as pd\n",
    "import matplotlib.pyplot as plt\n",
    "import seaborn as sns\n",
    "from sklearn.model_selection import train_test_split"
   ]
  },
  {
   "cell_type": "markdown",
   "id": "b8566ecb",
   "metadata": {},
   "source": [
    "## Read dataset from csv file"
   ]
  },
  {
   "cell_type": "code",
   "execution_count": 2,
   "id": "31a4e63a",
   "metadata": {},
   "outputs": [],
   "source": [
    "my_data = pd.read_csv('property_data.csv')"
   ]
  },
  {
   "cell_type": "code",
   "execution_count": 3,
   "id": "444b2112",
   "metadata": {},
   "outputs": [
    {
     "data": {
      "text/html": [
       "<div>\n",
       "<style scoped>\n",
       "    .dataframe tbody tr th:only-of-type {\n",
       "        vertical-align: middle;\n",
       "    }\n",
       "\n",
       "    .dataframe tbody tr th {\n",
       "        vertical-align: top;\n",
       "    }\n",
       "\n",
       "    .dataframe thead th {\n",
       "        text-align: right;\n",
       "    }\n",
       "</style>\n",
       "<table border=\"1\" class=\"dataframe\">\n",
       "  <thead>\n",
       "    <tr style=\"text-align: right;\">\n",
       "      <th></th>\n",
       "      <th>property_id</th>\n",
       "      <th>location_id</th>\n",
       "      <th>page_url</th>\n",
       "      <th>property_type</th>\n",
       "      <th>price</th>\n",
       "      <th>price_bin</th>\n",
       "      <th>location</th>\n",
       "      <th>city</th>\n",
       "      <th>province_name</th>\n",
       "      <th>locality</th>\n",
       "      <th>...</th>\n",
       "      <th>area_marla</th>\n",
       "      <th>area_sqft</th>\n",
       "      <th>purpose</th>\n",
       "      <th>bedrooms</th>\n",
       "      <th>date_added</th>\n",
       "      <th>year</th>\n",
       "      <th>month</th>\n",
       "      <th>day</th>\n",
       "      <th>agency</th>\n",
       "      <th>agent</th>\n",
       "    </tr>\n",
       "  </thead>\n",
       "  <tbody>\n",
       "    <tr>\n",
       "      <th>0</th>\n",
       "      <td>347795</td>\n",
       "      <td>8</td>\n",
       "      <td>https://www.zameen.com/Property/lahore_model_t...</td>\n",
       "      <td>House</td>\n",
       "      <td>220000000</td>\n",
       "      <td>Very High</td>\n",
       "      <td>Model Town</td>\n",
       "      <td>Lahore</td>\n",
       "      <td>Punjab</td>\n",
       "      <td>Model Town, Lahore, Punjab</td>\n",
       "      <td>...</td>\n",
       "      <td>120.0</td>\n",
       "      <td>32670.12</td>\n",
       "      <td>For Sale</td>\n",
       "      <td>0</td>\n",
       "      <td>07-17-2019</td>\n",
       "      <td>2019</td>\n",
       "      <td>7</td>\n",
       "      <td>17</td>\n",
       "      <td>Real Biz International</td>\n",
       "      <td>Usama Khan</td>\n",
       "    </tr>\n",
       "    <tr>\n",
       "      <th>1</th>\n",
       "      <td>482892</td>\n",
       "      <td>48</td>\n",
       "      <td>https://www.zameen.com/Property/lahore_multan_...</td>\n",
       "      <td>House</td>\n",
       "      <td>40000000</td>\n",
       "      <td>Very High</td>\n",
       "      <td>Multan Road</td>\n",
       "      <td>Lahore</td>\n",
       "      <td>Punjab</td>\n",
       "      <td>Multan Road, Lahore, Punjab</td>\n",
       "      <td>...</td>\n",
       "      <td>20.0</td>\n",
       "      <td>5445.02</td>\n",
       "      <td>For Sale</td>\n",
       "      <td>5</td>\n",
       "      <td>10-06-2018</td>\n",
       "      <td>2018</td>\n",
       "      <td>10</td>\n",
       "      <td>6</td>\n",
       "      <td>Khan Estate</td>\n",
       "      <td>mohsinkhan and B</td>\n",
       "    </tr>\n",
       "    <tr>\n",
       "      <th>2</th>\n",
       "      <td>555962</td>\n",
       "      <td>75</td>\n",
       "      <td>https://www.zameen.com/Property/eden_eden_aven...</td>\n",
       "      <td>House</td>\n",
       "      <td>9500000</td>\n",
       "      <td>Low</td>\n",
       "      <td>Eden</td>\n",
       "      <td>Lahore</td>\n",
       "      <td>Punjab</td>\n",
       "      <td>Eden, Lahore, Punjab</td>\n",
       "      <td>...</td>\n",
       "      <td>9.0</td>\n",
       "      <td>2450.26</td>\n",
       "      <td>For Sale</td>\n",
       "      <td>3</td>\n",
       "      <td>07-03-2019</td>\n",
       "      <td>2019</td>\n",
       "      <td>7</td>\n",
       "      <td>3</td>\n",
       "      <td>Shahum Estate 2</td>\n",
       "      <td>Babar Hameed, Raja Omar</td>\n",
       "    </tr>\n",
       "    <tr>\n",
       "      <th>3</th>\n",
       "      <td>562843</td>\n",
       "      <td>3821</td>\n",
       "      <td>https://www.zameen.com/Property/gulberg_2_gulb...</td>\n",
       "      <td>House</td>\n",
       "      <td>125000000</td>\n",
       "      <td>Very High</td>\n",
       "      <td>Gulberg</td>\n",
       "      <td>Lahore</td>\n",
       "      <td>Punjab</td>\n",
       "      <td>Gulberg, Lahore, Punjab</td>\n",
       "      <td>...</td>\n",
       "      <td>20.0</td>\n",
       "      <td>5445.02</td>\n",
       "      <td>For Sale</td>\n",
       "      <td>8</td>\n",
       "      <td>04-04-2019</td>\n",
       "      <td>2019</td>\n",
       "      <td>4</td>\n",
       "      <td>4</td>\n",
       "      <td>NaN</td>\n",
       "      <td>NaN</td>\n",
       "    </tr>\n",
       "    <tr>\n",
       "      <th>4</th>\n",
       "      <td>686990</td>\n",
       "      <td>3522</td>\n",
       "      <td>https://www.zameen.com/Property/allama_iqbal_t...</td>\n",
       "      <td>House</td>\n",
       "      <td>21000000</td>\n",
       "      <td>High</td>\n",
       "      <td>Allama Iqbal Town</td>\n",
       "      <td>Lahore</td>\n",
       "      <td>Punjab</td>\n",
       "      <td>Allama Iqbal Town, Lahore, Punjab</td>\n",
       "      <td>...</td>\n",
       "      <td>11.0</td>\n",
       "      <td>2994.76</td>\n",
       "      <td>For Sale</td>\n",
       "      <td>6</td>\n",
       "      <td>04-04-2019</td>\n",
       "      <td>2019</td>\n",
       "      <td>4</td>\n",
       "      <td>4</td>\n",
       "      <td>NaN</td>\n",
       "      <td>NaN</td>\n",
       "    </tr>\n",
       "  </tbody>\n",
       "</table>\n",
       "<p>5 rows × 24 columns</p>\n",
       "</div>"
      ],
      "text/plain": [
       "   property_id  location_id  \\\n",
       "0       347795            8   \n",
       "1       482892           48   \n",
       "2       555962           75   \n",
       "3       562843         3821   \n",
       "4       686990         3522   \n",
       "\n",
       "                                            page_url property_type      price  \\\n",
       "0  https://www.zameen.com/Property/lahore_model_t...         House  220000000   \n",
       "1  https://www.zameen.com/Property/lahore_multan_...         House   40000000   \n",
       "2  https://www.zameen.com/Property/eden_eden_aven...         House    9500000   \n",
       "3  https://www.zameen.com/Property/gulberg_2_gulb...         House  125000000   \n",
       "4  https://www.zameen.com/Property/allama_iqbal_t...         House   21000000   \n",
       "\n",
       "   price_bin           location    city province_name  \\\n",
       "0  Very High         Model Town  Lahore        Punjab   \n",
       "1  Very High        Multan Road  Lahore        Punjab   \n",
       "2        Low               Eden  Lahore        Punjab   \n",
       "3  Very High            Gulberg  Lahore        Punjab   \n",
       "4       High  Allama Iqbal Town  Lahore        Punjab   \n",
       "\n",
       "                            locality  ...  area_marla  area_sqft   purpose  \\\n",
       "0         Model Town, Lahore, Punjab  ...       120.0   32670.12  For Sale   \n",
       "1        Multan Road, Lahore, Punjab  ...        20.0    5445.02  For Sale   \n",
       "2               Eden, Lahore, Punjab  ...         9.0    2450.26  For Sale   \n",
       "3            Gulberg, Lahore, Punjab  ...        20.0    5445.02  For Sale   \n",
       "4  Allama Iqbal Town, Lahore, Punjab  ...        11.0    2994.76  For Sale   \n",
       "\n",
       "  bedrooms  date_added  year month  day                  agency  \\\n",
       "0        0  07-17-2019  2019     7   17  Real Biz International   \n",
       "1        5  10-06-2018  2018    10    6             Khan Estate   \n",
       "2        3  07-03-2019  2019     7    3         Shahum Estate 2   \n",
       "3        8  04-04-2019  2019     4    4                     NaN   \n",
       "4        6  04-04-2019  2019     4    4                     NaN   \n",
       "\n",
       "                     agent  \n",
       "0               Usama Khan  \n",
       "1         mohsinkhan and B  \n",
       "2  Babar Hameed, Raja Omar  \n",
       "3                      NaN  \n",
       "4                      NaN  \n",
       "\n",
       "[5 rows x 24 columns]"
      ]
     },
     "execution_count": 3,
     "metadata": {},
     "output_type": "execute_result"
    }
   ],
   "source": [
    "my_frame = pd.DataFrame(my_data)\n",
    "my_frame.head()"
   ]
  },
  {
   "cell_type": "code",
   "execution_count": 4,
   "id": "bac2356e",
   "metadata": {},
   "outputs": [
    {
     "data": {
      "text/plain": [
       "(191393, 24)"
      ]
     },
     "execution_count": 4,
     "metadata": {},
     "output_type": "execute_result"
    }
   ],
   "source": [
    "my_frame.shape"
   ]
  },
  {
   "cell_type": "code",
   "execution_count": 5,
   "id": "f5d90074",
   "metadata": {},
   "outputs": [
    {
     "name": "stdout",
     "output_type": "stream",
     "text": [
      "<class 'pandas.core.frame.DataFrame'>\n",
      "RangeIndex: 191393 entries, 0 to 191392\n",
      "Data columns (total 24 columns):\n",
      " #   Column         Non-Null Count   Dtype  \n",
      "---  ------         --------------   -----  \n",
      " 0   property_id    191393 non-null  int64  \n",
      " 1   location_id    191393 non-null  int64  \n",
      " 2   page_url       191393 non-null  object \n",
      " 3   property_type  191393 non-null  object \n",
      " 4   price          191393 non-null  int64  \n",
      " 5   price_bin      191393 non-null  object \n",
      " 6   location       191393 non-null  object \n",
      " 7   city           191393 non-null  object \n",
      " 8   province_name  191393 non-null  object \n",
      " 9   locality       191393 non-null  object \n",
      " 10  latitude       191393 non-null  float64\n",
      " 11  longitude      191393 non-null  float64\n",
      " 12  baths          191393 non-null  int64  \n",
      " 13  area           191393 non-null  object \n",
      " 14  area_marla     191393 non-null  float64\n",
      " 15  area_sqft      191393 non-null  float64\n",
      " 16  purpose        191393 non-null  object \n",
      " 17  bedrooms       191393 non-null  int64  \n",
      " 18  date_added     191393 non-null  object \n",
      " 19  year           191393 non-null  int64  \n",
      " 20  month          191393 non-null  int64  \n",
      " 21  day            191393 non-null  int64  \n",
      " 22  agency         144014 non-null  object \n",
      " 23  agent          144013 non-null  object \n",
      "dtypes: float64(4), int64(8), object(12)\n",
      "memory usage: 35.0+ MB\n"
     ]
    }
   ],
   "source": [
    "my_frame.info()"
   ]
  },
  {
   "cell_type": "code",
   "execution_count": 6,
   "id": "d5ecb9cd",
   "metadata": {},
   "outputs": [
    {
     "data": {
      "text/html": [
       "<div>\n",
       "<style scoped>\n",
       "    .dataframe tbody tr th:only-of-type {\n",
       "        vertical-align: middle;\n",
       "    }\n",
       "\n",
       "    .dataframe tbody tr th {\n",
       "        vertical-align: top;\n",
       "    }\n",
       "\n",
       "    .dataframe thead th {\n",
       "        text-align: right;\n",
       "    }\n",
       "</style>\n",
       "<table border=\"1\" class=\"dataframe\">\n",
       "  <thead>\n",
       "    <tr style=\"text-align: right;\">\n",
       "      <th></th>\n",
       "      <th>property_id</th>\n",
       "      <th>location_id</th>\n",
       "      <th>price</th>\n",
       "      <th>latitude</th>\n",
       "      <th>longitude</th>\n",
       "      <th>baths</th>\n",
       "      <th>area_marla</th>\n",
       "      <th>area_sqft</th>\n",
       "      <th>bedrooms</th>\n",
       "      <th>year</th>\n",
       "      <th>month</th>\n",
       "      <th>day</th>\n",
       "    </tr>\n",
       "  </thead>\n",
       "  <tbody>\n",
       "    <tr>\n",
       "      <th>count</th>\n",
       "      <td>1.913930e+05</td>\n",
       "      <td>191393.000000</td>\n",
       "      <td>1.913930e+05</td>\n",
       "      <td>191393.000000</td>\n",
       "      <td>191393.000000</td>\n",
       "      <td>191393.000000</td>\n",
       "      <td>191393.000000</td>\n",
       "      <td>1.913930e+05</td>\n",
       "      <td>191393.000000</td>\n",
       "      <td>191393.000000</td>\n",
       "      <td>191393.000000</td>\n",
       "      <td>191393.000000</td>\n",
       "    </tr>\n",
       "    <tr>\n",
       "      <th>mean</th>\n",
       "      <td>1.573170e+07</td>\n",
       "      <td>4224.580350</td>\n",
       "      <td>1.644655e+07</td>\n",
       "      <td>30.104593</td>\n",
       "      <td>71.572992</td>\n",
       "      <td>2.865956</td>\n",
       "      <td>14.573527</td>\n",
       "      <td>3.967656e+03</td>\n",
       "      <td>3.171516</td>\n",
       "      <td>2018.935687</td>\n",
       "      <td>6.212270</td>\n",
       "      <td>13.349631</td>\n",
       "    </tr>\n",
       "    <tr>\n",
       "      <th>std</th>\n",
       "      <td>2.215249e+06</td>\n",
       "      <td>3719.125201</td>\n",
       "      <td>3.416412e+07</td>\n",
       "      <td>3.645941</td>\n",
       "      <td>3.080463</td>\n",
       "      <td>2.435332</td>\n",
       "      <td>443.343252</td>\n",
       "      <td>1.207006e+05</td>\n",
       "      <td>1.952403</td>\n",
       "      <td>0.245310</td>\n",
       "      <td>1.815174</td>\n",
       "      <td>8.486820</td>\n",
       "    </tr>\n",
       "    <tr>\n",
       "      <th>min</th>\n",
       "      <td>8.657500e+04</td>\n",
       "      <td>1.000000</td>\n",
       "      <td>0.000000e+00</td>\n",
       "      <td>11.052446</td>\n",
       "      <td>25.906027</td>\n",
       "      <td>0.000000</td>\n",
       "      <td>0.000000</td>\n",
       "      <td>0.000000e+00</td>\n",
       "      <td>0.000000</td>\n",
       "      <td>2018.000000</td>\n",
       "      <td>1.000000</td>\n",
       "      <td>1.000000</td>\n",
       "    </tr>\n",
       "    <tr>\n",
       "      <th>25%</th>\n",
       "      <td>1.511867e+07</td>\n",
       "      <td>1057.000000</td>\n",
       "      <td>8.000000e+04</td>\n",
       "      <td>24.972287</td>\n",
       "      <td>67.152597</td>\n",
       "      <td>0.000000</td>\n",
       "      <td>4.900000</td>\n",
       "      <td>1.334030e+03</td>\n",
       "      <td>2.000000</td>\n",
       "      <td>2019.000000</td>\n",
       "      <td>6.000000</td>\n",
       "      <td>5.000000</td>\n",
       "    </tr>\n",
       "    <tr>\n",
       "      <th>50%</th>\n",
       "      <td>1.676385e+07</td>\n",
       "      <td>3233.000000</td>\n",
       "      <td>7.300000e+06</td>\n",
       "      <td>31.463563</td>\n",
       "      <td>73.077743</td>\n",
       "      <td>3.000000</td>\n",
       "      <td>7.600000</td>\n",
       "      <td>2.069110e+03</td>\n",
       "      <td>3.000000</td>\n",
       "      <td>2019.000000</td>\n",
       "      <td>7.000000</td>\n",
       "      <td>14.000000</td>\n",
       "    </tr>\n",
       "    <tr>\n",
       "      <th>75%</th>\n",
       "      <td>1.715282e+07</td>\n",
       "      <td>7182.000000</td>\n",
       "      <td>1.800000e+07</td>\n",
       "      <td>33.550869</td>\n",
       "      <td>74.228218</td>\n",
       "      <td>4.000000</td>\n",
       "      <td>12.000000</td>\n",
       "      <td>3.267010e+03</td>\n",
       "      <td>4.000000</td>\n",
       "      <td>2019.000000</td>\n",
       "      <td>7.000000</td>\n",
       "      <td>20.000000</td>\n",
       "    </tr>\n",
       "    <tr>\n",
       "      <th>max</th>\n",
       "      <td>1.769386e+07</td>\n",
       "      <td>14246.000000</td>\n",
       "      <td>2.000000e+09</td>\n",
       "      <td>73.184088</td>\n",
       "      <td>80.161430</td>\n",
       "      <td>403.000000</td>\n",
       "      <td>124444.000000</td>\n",
       "      <td>3.388000e+07</td>\n",
       "      <td>68.000000</td>\n",
       "      <td>2019.000000</td>\n",
       "      <td>12.000000</td>\n",
       "      <td>30.000000</td>\n",
       "    </tr>\n",
       "  </tbody>\n",
       "</table>\n",
       "</div>"
      ],
      "text/plain": [
       "        property_id    location_id         price       latitude  \\\n",
       "count  1.913930e+05  191393.000000  1.913930e+05  191393.000000   \n",
       "mean   1.573170e+07    4224.580350  1.644655e+07      30.104593   \n",
       "std    2.215249e+06    3719.125201  3.416412e+07       3.645941   \n",
       "min    8.657500e+04       1.000000  0.000000e+00      11.052446   \n",
       "25%    1.511867e+07    1057.000000  8.000000e+04      24.972287   \n",
       "50%    1.676385e+07    3233.000000  7.300000e+06      31.463563   \n",
       "75%    1.715282e+07    7182.000000  1.800000e+07      33.550869   \n",
       "max    1.769386e+07   14246.000000  2.000000e+09      73.184088   \n",
       "\n",
       "           longitude          baths     area_marla     area_sqft  \\\n",
       "count  191393.000000  191393.000000  191393.000000  1.913930e+05   \n",
       "mean       71.572992       2.865956      14.573527  3.967656e+03   \n",
       "std         3.080463       2.435332     443.343252  1.207006e+05   \n",
       "min        25.906027       0.000000       0.000000  0.000000e+00   \n",
       "25%        67.152597       0.000000       4.900000  1.334030e+03   \n",
       "50%        73.077743       3.000000       7.600000  2.069110e+03   \n",
       "75%        74.228218       4.000000      12.000000  3.267010e+03   \n",
       "max        80.161430     403.000000  124444.000000  3.388000e+07   \n",
       "\n",
       "            bedrooms           year          month            day  \n",
       "count  191393.000000  191393.000000  191393.000000  191393.000000  \n",
       "mean        3.171516    2018.935687       6.212270      13.349631  \n",
       "std         1.952403       0.245310       1.815174       8.486820  \n",
       "min         0.000000    2018.000000       1.000000       1.000000  \n",
       "25%         2.000000    2019.000000       6.000000       5.000000  \n",
       "50%         3.000000    2019.000000       7.000000      14.000000  \n",
       "75%         4.000000    2019.000000       7.000000      20.000000  \n",
       "max        68.000000    2019.000000      12.000000      30.000000  "
      ]
     },
     "execution_count": 6,
     "metadata": {},
     "output_type": "execute_result"
    }
   ],
   "source": [
    "my_frame.describe()"
   ]
  },
  {
   "cell_type": "code",
   "execution_count": 7,
   "id": "4a717c22",
   "metadata": {},
   "outputs": [
    {
     "data": {
      "text/plain": [
       "property_id        int64\n",
       "location_id        int64\n",
       "page_url          object\n",
       "property_type     object\n",
       "price              int64\n",
       "price_bin         object\n",
       "location          object\n",
       "city              object\n",
       "province_name     object\n",
       "locality          object\n",
       "latitude         float64\n",
       "longitude        float64\n",
       "baths              int64\n",
       "area              object\n",
       "area_marla       float64\n",
       "area_sqft        float64\n",
       "purpose           object\n",
       "bedrooms           int64\n",
       "date_added        object\n",
       "year               int64\n",
       "month              int64\n",
       "day                int64\n",
       "agency            object\n",
       "agent             object\n",
       "dtype: object"
      ]
     },
     "execution_count": 7,
     "metadata": {},
     "output_type": "execute_result"
    }
   ],
   "source": [
    "my_frame.dtypes"
   ]
  },
  {
   "cell_type": "code",
   "execution_count": 8,
   "id": "bf7f7710",
   "metadata": {},
   "outputs": [
    {
     "data": {
      "text/plain": [
       "property_id          0\n",
       "location_id          0\n",
       "page_url             0\n",
       "property_type        0\n",
       "price                0\n",
       "price_bin            0\n",
       "location             0\n",
       "city                 0\n",
       "province_name        0\n",
       "locality             0\n",
       "latitude             0\n",
       "longitude            0\n",
       "baths                0\n",
       "area                 0\n",
       "area_marla           0\n",
       "area_sqft            0\n",
       "purpose              0\n",
       "bedrooms             0\n",
       "date_added           0\n",
       "year                 0\n",
       "month                0\n",
       "day                  0\n",
       "agency           47379\n",
       "agent            47380\n",
       "dtype: int64"
      ]
     },
     "execution_count": 8,
     "metadata": {},
     "output_type": "execute_result"
    }
   ],
   "source": [
    "my_frame.isnull().sum()"
   ]
  },
  {
   "cell_type": "code",
   "execution_count": 9,
   "id": "2e5c0941",
   "metadata": {},
   "outputs": [
    {
     "data": {
      "text/plain": [
       "Index(['property_id', 'location_id', 'page_url', 'property_type', 'price',\n",
       "       'price_bin', 'location', 'city', 'province_name', 'locality',\n",
       "       'latitude', 'longitude', 'baths', 'area', 'area_marla', 'area_sqft',\n",
       "       'purpose', 'bedrooms', 'date_added', 'year', 'month', 'day', 'agency',\n",
       "       'agent'],\n",
       "      dtype='object')"
      ]
     },
     "execution_count": 9,
     "metadata": {},
     "output_type": "execute_result"
    }
   ],
   "source": [
    "my_frame.columns.unique()"
   ]
  },
  {
   "cell_type": "code",
   "execution_count": 10,
   "id": "a770a1bb",
   "metadata": {},
   "outputs": [
    {
     "data": {
      "text/plain": [
       "property_id      191393\n",
       "location_id        4321\n",
       "page_url         191393\n",
       "property_type         7\n",
       "price              2116\n",
       "price_bin             4\n",
       "location           1536\n",
       "city                  5\n",
       "province_name         3\n",
       "locality           1619\n",
       "latitude           8091\n",
       "longitude          8594\n",
       "baths                17\n",
       "area                352\n",
       "area_marla          351\n",
       "area_sqft           351\n",
       "purpose               2\n",
       "bedrooms             24\n",
       "date_added          148\n",
       "year                  2\n",
       "month                12\n",
       "day                  30\n",
       "agency             5923\n",
       "agent             11352\n",
       "dtype: int64"
      ]
     },
     "execution_count": 10,
     "metadata": {},
     "output_type": "execute_result"
    }
   ],
   "source": [
    "my_frame.nunique()"
   ]
  },
  {
   "cell_type": "markdown",
   "id": "7bd90c9c",
   "metadata": {},
   "source": [
    "## Data Cleaning / Data Wrangling"
   ]
  },
  {
   "cell_type": "code",
   "execution_count": 11,
   "id": "39467889",
   "metadata": {},
   "outputs": [
    {
     "data": {
      "text/plain": [
       "<AxesSubplot:>"
      ]
     },
     "execution_count": 11,
     "metadata": {},
     "output_type": "execute_result"
    },
    {
     "data": {
      "image/png": "[encoded data removed]",
      "text/plain": [
       "<Figure size 864x576 with 2 Axes>"
      ]
     },
     "metadata": {
      "needs_background": "light"
     },
     "output_type": "display_data"
    }
   ],
   "source": [
    "fig = plt.figure(figsize = (12, 8))\n",
    "sns.heatmap(my_frame.isnull())"
   ]
  },
  {
   "cell_type": "code",
   "execution_count": 12,
   "id": "708d9d02",
   "metadata": {},
   "outputs": [
    {
     "data": {
      "text/plain": [
       "property_id      191393\n",
       "location_id      191393\n",
       "page_url         191393\n",
       "property_type    191393\n",
       "price            191393\n",
       "price_bin        191393\n",
       "location         191393\n",
       "city             191393\n",
       "province_name    191393\n",
       "locality         191393\n",
       "latitude         191393\n",
       "longitude        191393\n",
       "baths            191393\n",
       "area             191393\n",
       "area_marla       191393\n",
       "area_sqft        191393\n",
       "purpose          191393\n",
       "bedrooms         191393\n",
       "date_added       191393\n",
       "year             191393\n",
       "month            191393\n",
       "day              191393\n",
       "agency           144014\n",
       "agent            144013\n",
       "dtype: int64"
      ]
     },
     "execution_count": 12,
     "metadata": {},
     "output_type": "execute_result"
    }
   ],
   "source": [
    "my_frame.count()"
   ]
  },
  {
   "cell_type": "code",
   "execution_count": 13,
   "id": "052b95fc",
   "metadata": {},
   "outputs": [
    {
     "data": {
      "text/html": [
       "<div>\n",
       "<style scoped>\n",
       "    .dataframe tbody tr th:only-of-type {\n",
       "        vertical-align: middle;\n",
       "    }\n",
       "\n",
       "    .dataframe tbody tr th {\n",
       "        vertical-align: top;\n",
       "    }\n",
       "\n",
       "    .dataframe thead th {\n",
       "        text-align: right;\n",
       "    }\n",
       "</style>\n",
       "<table border=\"1\" class=\"dataframe\">\n",
       "  <thead>\n",
       "    <tr style=\"text-align: right;\">\n",
       "      <th></th>\n",
       "      <th>property_id</th>\n",
       "      <th>location_id</th>\n",
       "      <th>price</th>\n",
       "      <th>latitude</th>\n",
       "      <th>longitude</th>\n",
       "      <th>baths</th>\n",
       "      <th>area_marla</th>\n",
       "      <th>area_sqft</th>\n",
       "      <th>bedrooms</th>\n",
       "      <th>year</th>\n",
       "      <th>month</th>\n",
       "      <th>day</th>\n",
       "    </tr>\n",
       "  </thead>\n",
       "  <tbody>\n",
       "    <tr>\n",
       "      <th>property_id</th>\n",
       "      <td>1.000000</td>\n",
       "      <td>-0.011014</td>\n",
       "      <td>-0.039687</td>\n",
       "      <td>0.023294</td>\n",
       "      <td>0.043368</td>\n",
       "      <td>-0.100241</td>\n",
       "      <td>0.003975</td>\n",
       "      <td>0.003975</td>\n",
       "      <td>-0.065099</td>\n",
       "      <td>0.378536</td>\n",
       "      <td>0.014441</td>\n",
       "      <td>0.143159</td>\n",
       "    </tr>\n",
       "    <tr>\n",
       "      <th>location_id</th>\n",
       "      <td>-0.011014</td>\n",
       "      <td>1.000000</td>\n",
       "      <td>-0.081339</td>\n",
       "      <td>-0.293861</td>\n",
       "      <td>-0.291134</td>\n",
       "      <td>-0.123689</td>\n",
       "      <td>-0.005862</td>\n",
       "      <td>-0.005862</td>\n",
       "      <td>-0.138379</td>\n",
       "      <td>-0.014835</td>\n",
       "      <td>-0.002273</td>\n",
       "      <td>-0.009690</td>\n",
       "    </tr>\n",
       "    <tr>\n",
       "      <th>price</th>\n",
       "      <td>-0.039687</td>\n",
       "      <td>-0.081339</td>\n",
       "      <td>1.000000</td>\n",
       "      <td>-0.084885</td>\n",
       "      <td>-0.049790</td>\n",
       "      <td>0.219297</td>\n",
       "      <td>0.021809</td>\n",
       "      <td>0.021809</td>\n",
       "      <td>0.303069</td>\n",
       "      <td>0.016298</td>\n",
       "      <td>-0.018600</td>\n",
       "      <td>-0.046424</td>\n",
       "    </tr>\n",
       "    <tr>\n",
       "      <th>latitude</th>\n",
       "      <td>0.023294</td>\n",
       "      <td>-0.293861</td>\n",
       "      <td>-0.084885</td>\n",
       "      <td>1.000000</td>\n",
       "      <td>0.915495</td>\n",
       "      <td>0.047043</td>\n",
       "      <td>0.008298</td>\n",
       "      <td>0.008298</td>\n",
       "      <td>0.025288</td>\n",
       "      <td>0.041195</td>\n",
       "      <td>-0.016026</td>\n",
       "      <td>-0.082797</td>\n",
       "    </tr>\n",
       "    <tr>\n",
       "      <th>longitude</th>\n",
       "      <td>0.043368</td>\n",
       "      <td>-0.291134</td>\n",
       "      <td>-0.049790</td>\n",
       "      <td>0.915495</td>\n",
       "      <td>1.000000</td>\n",
       "      <td>0.090028</td>\n",
       "      <td>0.007487</td>\n",
       "      <td>0.007487</td>\n",
       "      <td>0.072582</td>\n",
       "      <td>0.049397</td>\n",
       "      <td>-0.007706</td>\n",
       "      <td>-0.048613</td>\n",
       "    </tr>\n",
       "    <tr>\n",
       "      <th>baths</th>\n",
       "      <td>-0.100241</td>\n",
       "      <td>-0.123689</td>\n",
       "      <td>0.219297</td>\n",
       "      <td>0.047043</td>\n",
       "      <td>0.090028</td>\n",
       "      <td>1.000000</td>\n",
       "      <td>0.004605</td>\n",
       "      <td>0.004605</td>\n",
       "      <td>0.669057</td>\n",
       "      <td>-0.032543</td>\n",
       "      <td>0.000438</td>\n",
       "      <td>-0.030912</td>\n",
       "    </tr>\n",
       "    <tr>\n",
       "      <th>area_marla</th>\n",
       "      <td>0.003975</td>\n",
       "      <td>-0.005862</td>\n",
       "      <td>0.021809</td>\n",
       "      <td>0.008298</td>\n",
       "      <td>0.007487</td>\n",
       "      <td>0.004605</td>\n",
       "      <td>1.000000</td>\n",
       "      <td>1.000000</td>\n",
       "      <td>0.007573</td>\n",
       "      <td>0.002665</td>\n",
       "      <td>0.001398</td>\n",
       "      <td>0.000461</td>\n",
       "    </tr>\n",
       "    <tr>\n",
       "      <th>area_sqft</th>\n",
       "      <td>0.003975</td>\n",
       "      <td>-0.005862</td>\n",
       "      <td>0.021809</td>\n",
       "      <td>0.008298</td>\n",
       "      <td>0.007487</td>\n",
       "      <td>0.004605</td>\n",
       "      <td>1.000000</td>\n",
       "      <td>1.000000</td>\n",
       "      <td>0.007573</td>\n",
       "      <td>0.002665</td>\n",
       "      <td>0.001398</td>\n",
       "      <td>0.000461</td>\n",
       "    </tr>\n",
       "    <tr>\n",
       "      <th>bedrooms</th>\n",
       "      <td>-0.065099</td>\n",
       "      <td>-0.138379</td>\n",
       "      <td>0.303069</td>\n",
       "      <td>0.025288</td>\n",
       "      <td>0.072582</td>\n",
       "      <td>0.669057</td>\n",
       "      <td>0.007573</td>\n",
       "      <td>0.007573</td>\n",
       "      <td>1.000000</td>\n",
       "      <td>-0.019122</td>\n",
       "      <td>0.018371</td>\n",
       "      <td>-0.029751</td>\n",
       "    </tr>\n",
       "    <tr>\n",
       "      <th>year</th>\n",
       "      <td>0.378536</td>\n",
       "      <td>-0.014835</td>\n",
       "      <td>0.016298</td>\n",
       "      <td>0.041195</td>\n",
       "      <td>0.049397</td>\n",
       "      <td>-0.032543</td>\n",
       "      <td>0.002665</td>\n",
       "      <td>0.002665</td>\n",
       "      <td>-0.019122</td>\n",
       "      <td>1.000000</td>\n",
       "      <td>-0.566950</td>\n",
       "      <td>0.005882</td>\n",
       "    </tr>\n",
       "    <tr>\n",
       "      <th>month</th>\n",
       "      <td>0.014441</td>\n",
       "      <td>-0.002273</td>\n",
       "      <td>-0.018600</td>\n",
       "      <td>-0.016026</td>\n",
       "      <td>-0.007706</td>\n",
       "      <td>0.000438</td>\n",
       "      <td>0.001398</td>\n",
       "      <td>0.001398</td>\n",
       "      <td>0.018371</td>\n",
       "      <td>-0.566950</td>\n",
       "      <td>1.000000</td>\n",
       "      <td>0.024559</td>\n",
       "    </tr>\n",
       "    <tr>\n",
       "      <th>day</th>\n",
       "      <td>0.143159</td>\n",
       "      <td>-0.009690</td>\n",
       "      <td>-0.046424</td>\n",
       "      <td>-0.082797</td>\n",
       "      <td>-0.048613</td>\n",
       "      <td>-0.030912</td>\n",
       "      <td>0.000461</td>\n",
       "      <td>0.000461</td>\n",
       "      <td>-0.029751</td>\n",
       "      <td>0.005882</td>\n",
       "      <td>0.024559</td>\n",
       "      <td>1.000000</td>\n",
       "    </tr>\n",
       "  </tbody>\n",
       "</table>\n",
       "</div>"
      ],
      "text/plain": [
       "             property_id  location_id     price  latitude  longitude  \\\n",
       "property_id     1.000000    -0.011014 -0.039687  0.023294   0.043368   \n",
       "location_id    -0.011014     1.000000 -0.081339 -0.293861  -0.291134   \n",
       "price          -0.039687    -0.081339  1.000000 -0.084885  -0.049790   \n",
       "latitude        0.023294    -0.293861 -0.084885  1.000000   0.915495   \n",
       "longitude       0.043368    -0.291134 -0.049790  0.915495   1.000000   \n",
       "baths          -0.100241    -0.123689  0.219297  0.047043   0.090028   \n",
       "area_marla      0.003975    -0.005862  0.021809  0.008298   0.007487   \n",
       "area_sqft       0.003975    -0.005862  0.021809  0.008298   0.007487   \n",
       "bedrooms       -0.065099    -0.138379  0.303069  0.025288   0.072582   \n",
       "year            0.378536    -0.014835  0.016298  0.041195   0.049397   \n",
       "month           0.014441    -0.002273 -0.018600 -0.016026  -0.007706   \n",
       "day             0.143159    -0.009690 -0.046424 -0.082797  -0.048613   \n",
       "\n",
       "                baths  area_marla  area_sqft  bedrooms      year     month  \\\n",
       "property_id -0.100241    0.003975   0.003975 -0.065099  0.378536  0.014441   \n",
       "location_id -0.123689   -0.005862  -0.005862 -0.138379 -0.014835 -0.002273   \n",
       "price        0.219297    0.021809   0.021809  0.303069  0.016298 -0.018600   \n",
       "latitude     0.047043    0.008298   0.008298  0.025288  0.041195 -0.016026   \n",
       "longitude    0.090028    0.007487   0.007487  0.072582  0.049397 -0.007706   \n",
       "baths        1.000000    0.004605   0.004605  0.669057 -0.032543  0.000438   \n",
       "area_marla   0.004605    1.000000   1.000000  0.007573  0.002665  0.001398   \n",
       "area_sqft    0.004605    1.000000   1.000000  0.007573  0.002665  0.001398   \n",
       "bedrooms     0.669057    0.007573   0.007573  1.000000 -0.019122  0.018371   \n",
       "year        -0.032543    0.002665   0.002665 -0.019122  1.000000 -0.566950   \n",
       "month        0.000438    0.001398   0.001398  0.018371 -0.566950  1.000000   \n",
       "day         -0.030912    0.000461   0.000461 -0.029751  0.005882  0.024559   \n",
       "\n",
       "                  day  \n",
       "property_id  0.143159  \n",
       "location_id -0.009690  \n",
       "price       -0.046424  \n",
       "latitude    -0.082797  \n",
       "longitude   -0.048613  \n",
       "baths       -0.030912  \n",
       "area_marla   0.000461  \n",
       "area_sqft    0.000461  \n",
       "bedrooms    -0.029751  \n",
       "year         0.005882  \n",
       "month        0.024559  \n",
       "day          1.000000  "
      ]
     },
     "execution_count": 13,
     "metadata": {},
     "output_type": "execute_result"
    }
   ],
   "source": [
    "my_frame.corr()"
   ]
  },
  {
   "cell_type": "code",
   "execution_count": 14,
   "id": "4748c261",
   "metadata": {},
   "outputs": [
    {
     "data": {
      "text/plain": [
       "<AxesSubplot:>"
      ]
     },
     "execution_count": 14,
     "metadata": {},
     "output_type": "execute_result"
    },
    {
     "data": {
      "image/png": "[encoded data removed]",
      "text/plain": [
       "<Figure size 864x576 with 2 Axes>"
      ]
     },
     "metadata": {
      "needs_background": "light"
     },
     "output_type": "display_data"
    }
   ],
   "source": [
    "fig = plt.figure(figsize = (12, 8))\n",
    "sns.heatmap(my_frame.corr(), xticklabels = my_frame.corr().columns.values, yticklabels = my_frame.corr().columns.values)"
   ]
  },
  {
   "cell_type": "code",
   "execution_count": 15,
   "id": "bfddc86b",
   "metadata": {},
   "outputs": [
    {
     "data": {
      "text/plain": [
       "<AxesSubplot:>"
      ]
     },
     "execution_count": 15,
     "metadata": {},
     "output_type": "execute_result"
    },
    {
     "data": {
      "image/png": "[encoded data removed]",
      "text/plain": [
       "<Figure size 864x576 with 2 Axes>"
      ]
     },
     "metadata": {
      "needs_background": "light"
     },
     "output_type": "display_data"
    }
   ],
   "source": [
    "fig = plt.figure(figsize = (12, 8))\n",
    "sns.heatmap(my_frame.corr(), xticklabels = my_frame.corr().columns.values, yticklabels = my_frame.corr().columns.values, annot = True)"
   ]
  },
  {
   "cell_type": "code",
   "execution_count": 16,
   "id": "22584802",
   "metadata": {},
   "outputs": [
    {
     "data": {
      "text/plain": [
       "Index(['property_id', 'location_id', 'page_url', 'property_type', 'price',\n",
       "       'price_bin', 'location', 'city', 'province_name', 'locality',\n",
       "       'latitude', 'longitude', 'baths', 'area', 'area_marla', 'area_sqft',\n",
       "       'purpose', 'bedrooms', 'date_added', 'year', 'month', 'day', 'agency',\n",
       "       'agent'],\n",
       "      dtype='object')"
      ]
     },
     "execution_count": 16,
     "metadata": {},
     "output_type": "execute_result"
    }
   ],
   "source": [
    "my_frame.columns.unique()"
   ]
  },
  {
   "cell_type": "markdown",
   "id": "8b4a1c79",
   "metadata": {},
   "source": [
    "## Exploratory Data Analysis (EDA)"
   ]
  },
  {
   "cell_type": "code",
   "execution_count": 17,
   "id": "55a0b6e0",
   "metadata": {},
   "outputs": [
    {
     "data": {
      "image/png": "[encoded data removed]",
      "text/plain": [
       "<Figure size 432x288 with 1 Axes>"
      ]
     },
     "metadata": {
      "needs_background": "light"
     },
     "output_type": "display_data"
    },
    {
     "data": {
      "image/png": "[encoded data removed]",
      "text/plain": [
       "<Figure size 432x288 with 1 Axes>"
      ]
     },
     "metadata": {
      "needs_background": "light"
     },
     "output_type": "display_data"
    },
    {
     "data": {
      "image/png": "[encoded data removed]",
      "text/plain": [
       "<Figure size 432x288 with 1 Axes>"
      ]
     },
     "metadata": {
      "needs_background": "light"
     },
     "output_type": "display_data"
    },
    {
     "data": {
      "image/png": "[encoded data removed]",
      "text/plain": [
       "<Figure size 432x288 with 1 Axes>"
      ]
     },
     "metadata": {
      "needs_background": "light"
     },
     "output_type": "display_data"
    },
    {
     "data": {
      "image/png": "[encoded data removed]",
      "text/plain": [
       "<Figure size 432x288 with 1 Axes>"
      ]
     },
     "metadata": {
      "needs_background": "light"
     },
     "output_type": "display_data"
    }
   ],
   "source": [
    "# visualise the count of each category in categorical columns\n",
    "\n",
    "categorical_features = ['property_type', 'city', 'province_name', 'purpose', 'bedrooms']\n",
    "\n",
    "for i, cat_feature in enumerate(my_frame[categorical_features]):\n",
    "    my_frame[cat_feature].value_counts().plot(kind = 'bar', color = 'purple')\n",
    "    plt.show()"
   ]
  },
  {
   "cell_type": "code",
   "execution_count": 18,
   "id": "ce8072b0",
   "metadata": {},
   "outputs": [
    {
     "data": {
      "image/png": "[encoded data removed]",
      "text/plain": [
       "<Figure size 864x576 with 1 Axes>"
      ]
     },
     "metadata": {
      "needs_background": "light"
     },
     "output_type": "display_data"
    }
   ],
   "source": [
    "# seeing distribution of price in the dataset\n",
    "\n",
    "fig, ax = plt.subplots(figsize = (12, 8))\n",
    "sns.histplot(my_frame['price'], color = 'green')\n",
    "plt.ylim(0, 7500)\n",
    "plt.xlim(-25000000, 100000000)\n",
    "plt.show()"
   ]
  },
  {
   "cell_type": "code",
   "execution_count": 19,
   "id": "32feb182",
   "metadata": {},
   "outputs": [
    {
     "data": {
      "text/plain": [
       "<AxesSubplot:>"
      ]
     },
     "execution_count": 19,
     "metadata": {},
     "output_type": "execute_result"
    },
    {
     "data": {
      "image/png": "[encoded data removed]",
      "text/plain": [
       "<Figure size 864x576 with 1 Axes>"
      ]
     },
     "metadata": {
      "needs_background": "light"
     },
     "output_type": "display_data"
    }
   ],
   "source": [
    "# visualizing price column with a box plot\n",
    "\n",
    "fig = plt.figure(figsize = (12, 8))\n",
    "my_frame.boxplot(column = 'price')"
   ]
  },
  {
   "cell_type": "code",
   "execution_count": 20,
   "id": "28557de0",
   "metadata": {},
   "outputs": [
    {
     "data": {
      "text/plain": [
       "<AxesSubplot:xlabel='price', ylabel='property_type'>"
      ]
     },
     "execution_count": 20,
     "metadata": {},
     "output_type": "execute_result"
    },
    {
     "data": {
      "text/plain": [
       "<Figure size 864x576 with 0 Axes>"
      ]
     },
     "metadata": {},
     "output_type": "display_data"
    },
    {
     "data": {
      "image/png": "[encoded data removed]",
      "text/plain": [
       "<Figure size 432x288 with 1 Axes>"
      ]
     },
     "metadata": {
      "needs_background": "light"
     },
     "output_type": "display_data"
    }
   ],
   "source": [
    "# visualizing price vs property type\n",
    "\n",
    "fig = plt.figure(figsize = (12, 8))\n",
    "my_frame.plot.scatter(x = 'price', y = 'property_type', color = 'purple')"
   ]
  },
  {
   "cell_type": "code",
   "execution_count": 21,
   "id": "6f3427c6",
   "metadata": {},
   "outputs": [],
   "source": [
    "my_frame = my_frame.fillna('NA')"
   ]
  },
  {
   "cell_type": "code",
   "execution_count": 22,
   "id": "dcadc6fc",
   "metadata": {},
   "outputs": [
    {
     "data": {
      "text/html": [
       "<div>\n",
       "<style scoped>\n",
       "    .dataframe tbody tr th:only-of-type {\n",
       "        vertical-align: middle;\n",
       "    }\n",
       "\n",
       "    .dataframe tbody tr th {\n",
       "        vertical-align: top;\n",
       "    }\n",
       "\n",
       "    .dataframe thead th {\n",
       "        text-align: right;\n",
       "    }\n",
       "</style>\n",
       "<table border=\"1\" class=\"dataframe\">\n",
       "  <thead>\n",
       "    <tr style=\"text-align: right;\">\n",
       "      <th></th>\n",
       "      <th>property_id</th>\n",
       "      <th>location_id</th>\n",
       "      <th>page_url</th>\n",
       "      <th>property_type</th>\n",
       "      <th>price</th>\n",
       "      <th>price_bin</th>\n",
       "      <th>location</th>\n",
       "      <th>city</th>\n",
       "      <th>province_name</th>\n",
       "      <th>locality</th>\n",
       "      <th>...</th>\n",
       "      <th>area_marla</th>\n",
       "      <th>area_sqft</th>\n",
       "      <th>purpose</th>\n",
       "      <th>bedrooms</th>\n",
       "      <th>date_added</th>\n",
       "      <th>year</th>\n",
       "      <th>month</th>\n",
       "      <th>day</th>\n",
       "      <th>agency</th>\n",
       "      <th>agent</th>\n",
       "    </tr>\n",
       "  </thead>\n",
       "  <tbody>\n",
       "    <tr>\n",
       "      <th>0</th>\n",
       "      <td>347795</td>\n",
       "      <td>8</td>\n",
       "      <td>https://www.zameen.com/Property/lahore_model_t...</td>\n",
       "      <td>House</td>\n",
       "      <td>220000000</td>\n",
       "      <td>Very High</td>\n",
       "      <td>Model Town</td>\n",
       "      <td>Lahore</td>\n",
       "      <td>Punjab</td>\n",
       "      <td>Model Town, Lahore, Punjab</td>\n",
       "      <td>...</td>\n",
       "      <td>120.0</td>\n",
       "      <td>32670.12</td>\n",
       "      <td>For Sale</td>\n",
       "      <td>0</td>\n",
       "      <td>07-17-2019</td>\n",
       "      <td>2019</td>\n",
       "      <td>7</td>\n",
       "      <td>17</td>\n",
       "      <td>Real Biz International</td>\n",
       "      <td>Usama Khan</td>\n",
       "    </tr>\n",
       "    <tr>\n",
       "      <th>1</th>\n",
       "      <td>482892</td>\n",
       "      <td>48</td>\n",
       "      <td>https://www.zameen.com/Property/lahore_multan_...</td>\n",
       "      <td>House</td>\n",
       "      <td>40000000</td>\n",
       "      <td>Very High</td>\n",
       "      <td>Multan Road</td>\n",
       "      <td>Lahore</td>\n",
       "      <td>Punjab</td>\n",
       "      <td>Multan Road, Lahore, Punjab</td>\n",
       "      <td>...</td>\n",
       "      <td>20.0</td>\n",
       "      <td>5445.02</td>\n",
       "      <td>For Sale</td>\n",
       "      <td>5</td>\n",
       "      <td>10-06-2018</td>\n",
       "      <td>2018</td>\n",
       "      <td>10</td>\n",
       "      <td>6</td>\n",
       "      <td>Khan Estate</td>\n",
       "      <td>mohsinkhan and B</td>\n",
       "    </tr>\n",
       "    <tr>\n",
       "      <th>2</th>\n",
       "      <td>555962</td>\n",
       "      <td>75</td>\n",
       "      <td>https://www.zameen.com/Property/eden_eden_aven...</td>\n",
       "      <td>House</td>\n",
       "      <td>9500000</td>\n",
       "      <td>Low</td>\n",
       "      <td>Eden</td>\n",
       "      <td>Lahore</td>\n",
       "      <td>Punjab</td>\n",
       "      <td>Eden, Lahore, Punjab</td>\n",
       "      <td>...</td>\n",
       "      <td>9.0</td>\n",
       "      <td>2450.26</td>\n",
       "      <td>For Sale</td>\n",
       "      <td>3</td>\n",
       "      <td>07-03-2019</td>\n",
       "      <td>2019</td>\n",
       "      <td>7</td>\n",
       "      <td>3</td>\n",
       "      <td>Shahum Estate 2</td>\n",
       "      <td>Babar Hameed, Raja Omar</td>\n",
       "    </tr>\n",
       "    <tr>\n",
       "      <th>3</th>\n",
       "      <td>562843</td>\n",
       "      <td>3821</td>\n",
       "      <td>https://www.zameen.com/Property/gulberg_2_gulb...</td>\n",
       "      <td>House</td>\n",
       "      <td>125000000</td>\n",
       "      <td>Very High</td>\n",
       "      <td>Gulberg</td>\n",
       "      <td>Lahore</td>\n",
       "      <td>Punjab</td>\n",
       "      <td>Gulberg, Lahore, Punjab</td>\n",
       "      <td>...</td>\n",
       "      <td>20.0</td>\n",
       "      <td>5445.02</td>\n",
       "      <td>For Sale</td>\n",
       "      <td>8</td>\n",
       "      <td>04-04-2019</td>\n",
       "      <td>2019</td>\n",
       "      <td>4</td>\n",
       "      <td>4</td>\n",
       "      <td>NA</td>\n",
       "      <td>NA</td>\n",
       "    </tr>\n",
       "    <tr>\n",
       "      <th>4</th>\n",
       "      <td>686990</td>\n",
       "      <td>3522</td>\n",
       "      <td>https://www.zameen.com/Property/allama_iqbal_t...</td>\n",
       "      <td>House</td>\n",
       "      <td>21000000</td>\n",
       "      <td>High</td>\n",
       "      <td>Allama Iqbal Town</td>\n",
       "      <td>Lahore</td>\n",
       "      <td>Punjab</td>\n",
       "      <td>Allama Iqbal Town, Lahore, Punjab</td>\n",
       "      <td>...</td>\n",
       "      <td>11.0</td>\n",
       "      <td>2994.76</td>\n",
       "      <td>For Sale</td>\n",
       "      <td>6</td>\n",
       "      <td>04-04-2019</td>\n",
       "      <td>2019</td>\n",
       "      <td>4</td>\n",
       "      <td>4</td>\n",
       "      <td>NA</td>\n",
       "      <td>NA</td>\n",
       "    </tr>\n",
       "  </tbody>\n",
       "</table>\n",
       "<p>5 rows × 24 columns</p>\n",
       "</div>"
      ],
      "text/plain": [
       "   property_id  location_id  \\\n",
       "0       347795            8   \n",
       "1       482892           48   \n",
       "2       555962           75   \n",
       "3       562843         3821   \n",
       "4       686990         3522   \n",
       "\n",
       "                                            page_url property_type      price  \\\n",
       "0  https://www.zameen.com/Property/lahore_model_t...         House  220000000   \n",
       "1  https://www.zameen.com/Property/lahore_multan_...         House   40000000   \n",
       "2  https://www.zameen.com/Property/eden_eden_aven...         House    9500000   \n",
       "3  https://www.zameen.com/Property/gulberg_2_gulb...         House  125000000   \n",
       "4  https://www.zameen.com/Property/allama_iqbal_t...         House   21000000   \n",
       "\n",
       "   price_bin           location    city province_name  \\\n",
       "0  Very High         Model Town  Lahore        Punjab   \n",
       "1  Very High        Multan Road  Lahore        Punjab   \n",
       "2        Low               Eden  Lahore        Punjab   \n",
       "3  Very High            Gulberg  Lahore        Punjab   \n",
       "4       High  Allama Iqbal Town  Lahore        Punjab   \n",
       "\n",
       "                            locality  ...  area_marla  area_sqft   purpose  \\\n",
       "0         Model Town, Lahore, Punjab  ...       120.0   32670.12  For Sale   \n",
       "1        Multan Road, Lahore, Punjab  ...        20.0    5445.02  For Sale   \n",
       "2               Eden, Lahore, Punjab  ...         9.0    2450.26  For Sale   \n",
       "3            Gulberg, Lahore, Punjab  ...        20.0    5445.02  For Sale   \n",
       "4  Allama Iqbal Town, Lahore, Punjab  ...        11.0    2994.76  For Sale   \n",
       "\n",
       "  bedrooms  date_added  year month  day                  agency  \\\n",
       "0        0  07-17-2019  2019     7   17  Real Biz International   \n",
       "1        5  10-06-2018  2018    10    6             Khan Estate   \n",
       "2        3  07-03-2019  2019     7    3         Shahum Estate 2   \n",
       "3        8  04-04-2019  2019     4    4                      NA   \n",
       "4        6  04-04-2019  2019     4    4                      NA   \n",
       "\n",
       "                     agent  \n",
       "0               Usama Khan  \n",
       "1         mohsinkhan and B  \n",
       "2  Babar Hameed, Raja Omar  \n",
       "3                       NA  \n",
       "4                       NA  \n",
       "\n",
       "[5 rows x 24 columns]"
      ]
     },
     "execution_count": 22,
     "metadata": {},
     "output_type": "execute_result"
    }
   ],
   "source": [
    "my_frame.head()"
   ]
  },
  {
   "cell_type": "code",
   "execution_count": 23,
   "id": "9b6b51d3",
   "metadata": {},
   "outputs": [
    {
     "data": {
      "text/plain": [
       "<AxesSubplot:>"
      ]
     },
     "execution_count": 23,
     "metadata": {},
     "output_type": "execute_result"
    },
    {
     "data": {
      "image/png": "[encoded data removed]",
      "text/plain": [
       "<Figure size 864x576 with 2 Axes>"
      ]
     },
     "metadata": {
      "needs_background": "light"
     },
     "output_type": "display_data"
    }
   ],
   "source": [
    "fig = plt.figure(figsize = (12, 8))\n",
    "sns.heatmap(my_frame.isnull())"
   ]
  },
  {
   "cell_type": "code",
   "execution_count": 24,
   "id": "a54ca064",
   "metadata": {},
   "outputs": [
    {
     "data": {
      "text/plain": [
       "Index(['property_id', 'location_id', 'page_url', 'property_type', 'price',\n",
       "       'price_bin', 'location', 'city', 'province_name', 'locality',\n",
       "       'latitude', 'longitude', 'baths', 'area', 'area_marla', 'area_sqft',\n",
       "       'purpose', 'bedrooms', 'date_added', 'year', 'month', 'day', 'agency',\n",
       "       'agent'],\n",
       "      dtype='object')"
      ]
     },
     "execution_count": 24,
     "metadata": {},
     "output_type": "execute_result"
    }
   ],
   "source": [
    "my_frame.columns.unique()"
   ]
  },
  {
   "cell_type": "code",
   "execution_count": 25,
   "id": "8cb78f07",
   "metadata": {},
   "outputs": [],
   "source": [
    "my_frame = my_frame.drop(\n",
    "    ['property_id','location_id','page_url','location','latitude','longitude','area',\n",
    "     'date_added','agency','agent', 'price_bin', 'locality'], axis = 1)"
   ]
  },
  {
   "cell_type": "code",
   "execution_count": 26,
   "id": "a2e4a812",
   "metadata": {},
   "outputs": [
    {
     "data": {
      "text/html": [
       "<div>\n",
       "<style scoped>\n",
       "    .dataframe tbody tr th:only-of-type {\n",
       "        vertical-align: middle;\n",
       "    }\n",
       "\n",
       "    .dataframe tbody tr th {\n",
       "        vertical-align: top;\n",
       "    }\n",
       "\n",
       "    .dataframe thead th {\n",
       "        text-align: right;\n",
       "    }\n",
       "</style>\n",
       "<table border=\"1\" class=\"dataframe\">\n",
       "  <thead>\n",
       "    <tr style=\"text-align: right;\">\n",
       "      <th></th>\n",
       "      <th>property_type</th>\n",
       "      <th>price</th>\n",
       "      <th>city</th>\n",
       "      <th>province_name</th>\n",
       "      <th>baths</th>\n",
       "      <th>area_marla</th>\n",
       "      <th>area_sqft</th>\n",
       "      <th>purpose</th>\n",
       "      <th>bedrooms</th>\n",
       "      <th>year</th>\n",
       "      <th>month</th>\n",
       "      <th>day</th>\n",
       "    </tr>\n",
       "  </thead>\n",
       "  <tbody>\n",
       "    <tr>\n",
       "      <th>0</th>\n",
       "      <td>House</td>\n",
       "      <td>220000000</td>\n",
       "      <td>Lahore</td>\n",
       "      <td>Punjab</td>\n",
       "      <td>0</td>\n",
       "      <td>120.0</td>\n",
       "      <td>32670.12</td>\n",
       "      <td>For Sale</td>\n",
       "      <td>0</td>\n",
       "      <td>2019</td>\n",
       "      <td>7</td>\n",
       "      <td>17</td>\n",
       "    </tr>\n",
       "    <tr>\n",
       "      <th>1</th>\n",
       "      <td>House</td>\n",
       "      <td>40000000</td>\n",
       "      <td>Lahore</td>\n",
       "      <td>Punjab</td>\n",
       "      <td>5</td>\n",
       "      <td>20.0</td>\n",
       "      <td>5445.02</td>\n",
       "      <td>For Sale</td>\n",
       "      <td>5</td>\n",
       "      <td>2018</td>\n",
       "      <td>10</td>\n",
       "      <td>6</td>\n",
       "    </tr>\n",
       "    <tr>\n",
       "      <th>2</th>\n",
       "      <td>House</td>\n",
       "      <td>9500000</td>\n",
       "      <td>Lahore</td>\n",
       "      <td>Punjab</td>\n",
       "      <td>0</td>\n",
       "      <td>9.0</td>\n",
       "      <td>2450.26</td>\n",
       "      <td>For Sale</td>\n",
       "      <td>3</td>\n",
       "      <td>2019</td>\n",
       "      <td>7</td>\n",
       "      <td>3</td>\n",
       "    </tr>\n",
       "    <tr>\n",
       "      <th>3</th>\n",
       "      <td>House</td>\n",
       "      <td>125000000</td>\n",
       "      <td>Lahore</td>\n",
       "      <td>Punjab</td>\n",
       "      <td>7</td>\n",
       "      <td>20.0</td>\n",
       "      <td>5445.02</td>\n",
       "      <td>For Sale</td>\n",
       "      <td>8</td>\n",
       "      <td>2019</td>\n",
       "      <td>4</td>\n",
       "      <td>4</td>\n",
       "    </tr>\n",
       "    <tr>\n",
       "      <th>4</th>\n",
       "      <td>House</td>\n",
       "      <td>21000000</td>\n",
       "      <td>Lahore</td>\n",
       "      <td>Punjab</td>\n",
       "      <td>5</td>\n",
       "      <td>11.0</td>\n",
       "      <td>2994.76</td>\n",
       "      <td>For Sale</td>\n",
       "      <td>6</td>\n",
       "      <td>2019</td>\n",
       "      <td>4</td>\n",
       "      <td>4</td>\n",
       "    </tr>\n",
       "  </tbody>\n",
       "</table>\n",
       "</div>"
      ],
      "text/plain": [
       "  property_type      price    city province_name  baths  area_marla  \\\n",
       "0         House  220000000  Lahore        Punjab      0       120.0   \n",
       "1         House   40000000  Lahore        Punjab      5        20.0   \n",
       "2         House    9500000  Lahore        Punjab      0         9.0   \n",
       "3         House  125000000  Lahore        Punjab      7        20.0   \n",
       "4         House   21000000  Lahore        Punjab      5        11.0   \n",
       "\n",
       "   area_sqft   purpose  bedrooms  year  month  day  \n",
       "0   32670.12  For Sale         0  2019      7   17  \n",
       "1    5445.02  For Sale         5  2018     10    6  \n",
       "2    2450.26  For Sale         3  2019      7    3  \n",
       "3    5445.02  For Sale         8  2019      4    4  \n",
       "4    2994.76  For Sale         6  2019      4    4  "
      ]
     },
     "execution_count": 26,
     "metadata": {},
     "output_type": "execute_result"
    }
   ],
   "source": [
    "my_frame.head()"
   ]
  },
  {
   "cell_type": "code",
   "execution_count": 27,
   "id": "fad715bb",
   "metadata": {},
   "outputs": [],
   "source": [
    "my_frame['property_type'] = my_frame['property_type'].astype('category').cat.codes\n",
    "my_frame['city'] = my_frame['city'].astype('category').cat.codes\n",
    "my_frame['province_name'] = my_frame['province_name'].astype('category').cat.codes\n",
    "my_frame['purpose'] = my_frame['purpose'].astype('category').cat.codes"
   ]
  },
  {
   "cell_type": "code",
   "execution_count": 28,
   "id": "333f11e7",
   "metadata": {},
   "outputs": [
    {
     "data": {
      "text/html": [
       "<div>\n",
       "<style scoped>\n",
       "    .dataframe tbody tr th:only-of-type {\n",
       "        vertical-align: middle;\n",
       "    }\n",
       "\n",
       "    .dataframe tbody tr th {\n",
       "        vertical-align: top;\n",
       "    }\n",
       "\n",
       "    .dataframe thead th {\n",
       "        text-align: right;\n",
       "    }\n",
       "</style>\n",
       "<table border=\"1\" class=\"dataframe\">\n",
       "  <thead>\n",
       "    <tr style=\"text-align: right;\">\n",
       "      <th></th>\n",
       "      <th>property_type</th>\n",
       "      <th>price</th>\n",
       "      <th>city</th>\n",
       "      <th>province_name</th>\n",
       "      <th>baths</th>\n",
       "      <th>area_marla</th>\n",
       "      <th>area_sqft</th>\n",
       "      <th>purpose</th>\n",
       "      <th>bedrooms</th>\n",
       "      <th>year</th>\n",
       "      <th>month</th>\n",
       "      <th>day</th>\n",
       "    </tr>\n",
       "  </thead>\n",
       "  <tbody>\n",
       "    <tr>\n",
       "      <th>0</th>\n",
       "      <td>2</td>\n",
       "      <td>220000000</td>\n",
       "      <td>3</td>\n",
       "      <td>1</td>\n",
       "      <td>0</td>\n",
       "      <td>120.0</td>\n",
       "      <td>32670.12</td>\n",
       "      <td>1</td>\n",
       "      <td>0</td>\n",
       "      <td>2019</td>\n",
       "      <td>7</td>\n",
       "      <td>17</td>\n",
       "    </tr>\n",
       "    <tr>\n",
       "      <th>1</th>\n",
       "      <td>2</td>\n",
       "      <td>40000000</td>\n",
       "      <td>3</td>\n",
       "      <td>1</td>\n",
       "      <td>5</td>\n",
       "      <td>20.0</td>\n",
       "      <td>5445.02</td>\n",
       "      <td>1</td>\n",
       "      <td>5</td>\n",
       "      <td>2018</td>\n",
       "      <td>10</td>\n",
       "      <td>6</td>\n",
       "    </tr>\n",
       "    <tr>\n",
       "      <th>2</th>\n",
       "      <td>2</td>\n",
       "      <td>9500000</td>\n",
       "      <td>3</td>\n",
       "      <td>1</td>\n",
       "      <td>0</td>\n",
       "      <td>9.0</td>\n",
       "      <td>2450.26</td>\n",
       "      <td>1</td>\n",
       "      <td>3</td>\n",
       "      <td>2019</td>\n",
       "      <td>7</td>\n",
       "      <td>3</td>\n",
       "    </tr>\n",
       "    <tr>\n",
       "      <th>3</th>\n",
       "      <td>2</td>\n",
       "      <td>125000000</td>\n",
       "      <td>3</td>\n",
       "      <td>1</td>\n",
       "      <td>7</td>\n",
       "      <td>20.0</td>\n",
       "      <td>5445.02</td>\n",
       "      <td>1</td>\n",
       "      <td>8</td>\n",
       "      <td>2019</td>\n",
       "      <td>4</td>\n",
       "      <td>4</td>\n",
       "    </tr>\n",
       "    <tr>\n",
       "      <th>4</th>\n",
       "      <td>2</td>\n",
       "      <td>21000000</td>\n",
       "      <td>3</td>\n",
       "      <td>1</td>\n",
       "      <td>5</td>\n",
       "      <td>11.0</td>\n",
       "      <td>2994.76</td>\n",
       "      <td>1</td>\n",
       "      <td>6</td>\n",
       "      <td>2019</td>\n",
       "      <td>4</td>\n",
       "      <td>4</td>\n",
       "    </tr>\n",
       "  </tbody>\n",
       "</table>\n",
       "</div>"
      ],
      "text/plain": [
       "   property_type      price  city  province_name  baths  area_marla  \\\n",
       "0              2  220000000     3              1      0       120.0   \n",
       "1              2   40000000     3              1      5        20.0   \n",
       "2              2    9500000     3              1      0         9.0   \n",
       "3              2  125000000     3              1      7        20.0   \n",
       "4              2   21000000     3              1      5        11.0   \n",
       "\n",
       "   area_sqft  purpose  bedrooms  year  month  day  \n",
       "0   32670.12        1         0  2019      7   17  \n",
       "1    5445.02        1         5  2018     10    6  \n",
       "2    2450.26        1         3  2019      7    3  \n",
       "3    5445.02        1         8  2019      4    4  \n",
       "4    2994.76        1         6  2019      4    4  "
      ]
     },
     "execution_count": 28,
     "metadata": {},
     "output_type": "execute_result"
    }
   ],
   "source": [
    "my_frame.head()"
   ]
  },
  {
   "cell_type": "code",
   "execution_count": 48,
   "id": "667c2ff9",
   "metadata": {},
   "outputs": [],
   "source": [
    "x = my_frame[['property_type', 'city', 'province_name', 'baths', 'purpose', 'bedrooms', 'area_sqft']]\n",
    "# x = my_frame.drop('price', axis = 1)\n",
    "y = my_frame['price']"
   ]
  },
  {
   "cell_type": "markdown",
   "id": "9e842c05",
   "metadata": {},
   "source": [
    "## train test split"
   ]
  },
  {
   "cell_type": "code",
   "execution_count": 50,
   "id": "c389735b",
   "metadata": {},
   "outputs": [],
   "source": [
    "x_train, x_test, y_train, y_test = train_test_split(x, y, test_size = 0.25, random_state = 35)"
   ]
  },
  {
   "cell_type": "markdown",
   "id": "850186ef",
   "metadata": {},
   "source": [
    "## Linear Regression"
   ]
  },
  {
   "cell_type": "code",
   "execution_count": 51,
   "id": "a403fa5a",
   "metadata": {},
   "outputs": [],
   "source": [
    "from sklearn.linear_model import LinearRegression"
   ]
  },
  {
   "cell_type": "code",
   "execution_count": 52,
   "id": "6f03c143",
   "metadata": {},
   "outputs": [],
   "source": [
    "reg_model = LinearRegression()"
   ]
  },
  {
   "cell_type": "code",
   "execution_count": 53,
   "id": "91689044",
   "metadata": {},
   "outputs": [
    {
     "data": {
      "text/plain": [
       "LinearRegression()"
      ]
     },
     "execution_count": 53,
     "metadata": {},
     "output_type": "execute_result"
    }
   ],
   "source": [
    "reg_model.fit(x_train, y_train)"
   ]
  },
  {
   "cell_type": "code",
   "execution_count": 54,
   "id": "23cdf2f8",
   "metadata": {},
   "outputs": [],
   "source": [
    "lin_y_pred = reg_model.predict(x_test)"
   ]
  },
  {
   "cell_type": "code",
   "execution_count": 55,
   "id": "1d04564f",
   "metadata": {},
   "outputs": [
    {
     "data": {
      "text/html": [
       "<div>\n",
       "<style scoped>\n",
       "    .dataframe tbody tr th:only-of-type {\n",
       "        vertical-align: middle;\n",
       "    }\n",
       "\n",
       "    .dataframe tbody tr th {\n",
       "        vertical-align: top;\n",
       "    }\n",
       "\n",
       "    .dataframe thead th {\n",
       "        text-align: right;\n",
       "    }\n",
       "</style>\n",
       "<table border=\"1\" class=\"dataframe\">\n",
       "  <thead>\n",
       "    <tr style=\"text-align: right;\">\n",
       "      <th></th>\n",
       "      <th>Actual</th>\n",
       "      <th>Predicted</th>\n",
       "    </tr>\n",
       "  </thead>\n",
       "  <tbody>\n",
       "    <tr>\n",
       "      <th>85940</th>\n",
       "      <td>12000</td>\n",
       "      <td>-8.841816e+06</td>\n",
       "    </tr>\n",
       "    <tr>\n",
       "      <th>146628</th>\n",
       "      <td>8500000</td>\n",
       "      <td>2.468968e+07</td>\n",
       "    </tr>\n",
       "    <tr>\n",
       "      <th>158861</th>\n",
       "      <td>16000000</td>\n",
       "      <td>2.271921e+07</td>\n",
       "    </tr>\n",
       "    <tr>\n",
       "      <th>89319</th>\n",
       "      <td>8000000</td>\n",
       "      <td>2.347812e+07</td>\n",
       "    </tr>\n",
       "    <tr>\n",
       "      <th>65626</th>\n",
       "      <td>50000000</td>\n",
       "      <td>3.856136e+07</td>\n",
       "    </tr>\n",
       "    <tr>\n",
       "      <th>...</th>\n",
       "      <td>...</td>\n",
       "      <td>...</td>\n",
       "    </tr>\n",
       "    <tr>\n",
       "      <th>35493</th>\n",
       "      <td>400000</td>\n",
       "      <td>1.115214e+07</td>\n",
       "    </tr>\n",
       "    <tr>\n",
       "      <th>122624</th>\n",
       "      <td>22000000</td>\n",
       "      <td>2.386079e+07</td>\n",
       "    </tr>\n",
       "    <tr>\n",
       "      <th>108595</th>\n",
       "      <td>3600000</td>\n",
       "      <td>2.157729e+07</td>\n",
       "    </tr>\n",
       "    <tr>\n",
       "      <th>24674</th>\n",
       "      <td>39900000</td>\n",
       "      <td>2.001757e+07</td>\n",
       "    </tr>\n",
       "    <tr>\n",
       "      <th>168816</th>\n",
       "      <td>23500000</td>\n",
       "      <td>3.118923e+07</td>\n",
       "    </tr>\n",
       "  </tbody>\n",
       "</table>\n",
       "<p>47849 rows × 2 columns</p>\n",
       "</div>"
      ],
      "text/plain": [
       "          Actual     Predicted\n",
       "85940      12000 -8.841816e+06\n",
       "146628   8500000  2.468968e+07\n",
       "158861  16000000  2.271921e+07\n",
       "89319    8000000  2.347812e+07\n",
       "65626   50000000  3.856136e+07\n",
       "...          ...           ...\n",
       "35493     400000  1.115214e+07\n",
       "122624  22000000  2.386079e+07\n",
       "108595   3600000  2.157729e+07\n",
       "24674   39900000  2.001757e+07\n",
       "168816  23500000  3.118923e+07\n",
       "\n",
       "[47849 rows x 2 columns]"
      ]
     },
     "execution_count": 55,
     "metadata": {},
     "output_type": "execute_result"
    }
   ],
   "source": [
    "lr_data = pd.DataFrame({'Actual' : y_test, 'Predicted' : lin_y_pred})\n",
    "lr_data"
   ]
  },
  {
   "cell_type": "markdown",
   "id": "b7b6af9d",
   "metadata": {},
   "source": [
    "## Random Forest Regressor"
   ]
  },
  {
   "cell_type": "code",
   "execution_count": 56,
   "id": "a89299b0",
   "metadata": {},
   "outputs": [],
   "source": [
    "from sklearn.ensemble import RandomForestRegressor"
   ]
  },
  {
   "cell_type": "code",
   "execution_count": 57,
   "id": "3260a895",
   "metadata": {},
   "outputs": [],
   "source": [
    "forest_model = RandomForestRegressor()"
   ]
  },
  {
   "cell_type": "code",
   "execution_count": 58,
   "id": "488edb62",
   "metadata": {},
   "outputs": [
    {
     "data": {
      "text/plain": [
       "RandomForestRegressor()"
      ]
     },
     "execution_count": 58,
     "metadata": {},
     "output_type": "execute_result"
    }
   ],
   "source": [
    "forest_model.fit(x_train, y_train)"
   ]
  },
  {
   "cell_type": "code",
   "execution_count": 59,
   "id": "bde59e24",
   "metadata": {},
   "outputs": [],
   "source": [
    "forest_y_pred = forest_model.predict(x_test)"
   ]
  },
  {
   "cell_type": "code",
   "execution_count": 60,
   "id": "13cc4c14",
   "metadata": {},
   "outputs": [
    {
     "data": {
      "text/html": [
       "<div>\n",
       "<style scoped>\n",
       "    .dataframe tbody tr th:only-of-type {\n",
       "        vertical-align: middle;\n",
       "    }\n",
       "\n",
       "    .dataframe tbody tr th {\n",
       "        vertical-align: top;\n",
       "    }\n",
       "\n",
       "    .dataframe thead th {\n",
       "        text-align: right;\n",
       "    }\n",
       "</style>\n",
       "<table border=\"1\" class=\"dataframe\">\n",
       "  <thead>\n",
       "    <tr style=\"text-align: right;\">\n",
       "      <th></th>\n",
       "      <th>Actual</th>\n",
       "      <th>Predicted</th>\n",
       "    </tr>\n",
       "  </thead>\n",
       "  <tbody>\n",
       "    <tr>\n",
       "      <th>85940</th>\n",
       "      <td>12000</td>\n",
       "      <td>1.947594e+04</td>\n",
       "    </tr>\n",
       "    <tr>\n",
       "      <th>146628</th>\n",
       "      <td>8500000</td>\n",
       "      <td>1.434777e+07</td>\n",
       "    </tr>\n",
       "    <tr>\n",
       "      <th>158861</th>\n",
       "      <td>16000000</td>\n",
       "      <td>2.418547e+07</td>\n",
       "    </tr>\n",
       "    <tr>\n",
       "      <th>89319</th>\n",
       "      <td>8000000</td>\n",
       "      <td>9.385352e+06</td>\n",
       "    </tr>\n",
       "    <tr>\n",
       "      <th>65626</th>\n",
       "      <td>50000000</td>\n",
       "      <td>4.066530e+07</td>\n",
       "    </tr>\n",
       "    <tr>\n",
       "      <th>...</th>\n",
       "      <td>...</td>\n",
       "      <td>...</td>\n",
       "    </tr>\n",
       "    <tr>\n",
       "      <th>35493</th>\n",
       "      <td>400000</td>\n",
       "      <td>3.608952e+05</td>\n",
       "    </tr>\n",
       "    <tr>\n",
       "      <th>122624</th>\n",
       "      <td>22000000</td>\n",
       "      <td>1.359953e+07</td>\n",
       "    </tr>\n",
       "    <tr>\n",
       "      <th>108595</th>\n",
       "      <td>3600000</td>\n",
       "      <td>5.217807e+06</td>\n",
       "    </tr>\n",
       "    <tr>\n",
       "      <th>24674</th>\n",
       "      <td>39900000</td>\n",
       "      <td>3.590553e+07</td>\n",
       "    </tr>\n",
       "    <tr>\n",
       "      <th>168816</th>\n",
       "      <td>23500000</td>\n",
       "      <td>2.169054e+07</td>\n",
       "    </tr>\n",
       "  </tbody>\n",
       "</table>\n",
       "<p>47849 rows × 2 columns</p>\n",
       "</div>"
      ],
      "text/plain": [
       "          Actual     Predicted\n",
       "85940      12000  1.947594e+04\n",
       "146628   8500000  1.434777e+07\n",
       "158861  16000000  2.418547e+07\n",
       "89319    8000000  9.385352e+06\n",
       "65626   50000000  4.066530e+07\n",
       "...          ...           ...\n",
       "35493     400000  3.608952e+05\n",
       "122624  22000000  1.359953e+07\n",
       "108595   3600000  5.217807e+06\n",
       "24674   39900000  3.590553e+07\n",
       "168816  23500000  2.169054e+07\n",
       "\n",
       "[47849 rows x 2 columns]"
      ]
     },
     "execution_count": 60,
     "metadata": {},
     "output_type": "execute_result"
    }
   ],
   "source": [
    "forest_data = pd.DataFrame({'Actual' : y_test, 'Predicted' : forest_y_pred})\n",
    "forest_data"
   ]
  },
  {
   "cell_type": "markdown",
   "id": "a102e374",
   "metadata": {},
   "source": [
    "## R2_Score, Mean_Squared_Error"
   ]
  },
  {
   "cell_type": "code",
   "execution_count": 61,
   "id": "f8dbe433",
   "metadata": {},
   "outputs": [],
   "source": [
    "from sklearn.metrics import r2_score\n",
    "from sklearn.metrics import mean_squared_error"
   ]
  },
  {
   "cell_type": "code",
   "execution_count": 62,
   "id": "a70d57e5",
   "metadata": {},
   "outputs": [
    {
     "name": "stdout",
     "output_type": "stream",
     "text": [
      "Linear Regression Mean Square Error: 920098843481251.0\n",
      "Linear Regression R2 Score: 0.19173592157733166\n",
      "Random Forest Regressor Mean Square Error: 281463670911196.84\n",
      "Random Forest Regressor R2 Score: 0.7527472442876346\n"
     ]
    }
   ],
   "source": [
    "print('Linear Regression Mean Square Error:', mean_squared_error(y_test, lin_y_pred))\n",
    "print('Linear Regression R2 Score:', r2_score(y_test, lin_y_pred))\n",
    "\n",
    "print('Random Forest Regressor Mean Square Error:', mean_squared_error(y_test, forest_y_pred))\n",
    "print('Random Forest Regressor R2 Score:', r2_score(y_test, forest_y_pred))"
   ]
  },
  {
   "cell_type": "markdown",
   "id": "a7472071",
   "metadata": {},
   "source": [
    "## Apply Pickle"
   ]
  },
  {
   "cell_type": "code",
   "execution_count": 63,
   "id": "5acfeb8e",
   "metadata": {},
   "outputs": [],
   "source": [
    "import pickle"
   ]
  },
  {
   "cell_type": "code",
   "execution_count": 64,
   "id": "6e1bda9e",
   "metadata": {},
   "outputs": [],
   "source": [
    "pickle_out = open(\"regression_model.pkl\", \"wb\")\n",
    "pickle.dump(reg_model, pickle_out)\n",
    "pickle_out.close()"
   ]
  },
  {
   "cell_type": "code",
   "execution_count": 65,
   "id": "bb1615f8",
   "metadata": {},
   "outputs": [],
   "source": [
    "pickle_out1 = open(\"forest_model.pkl\", \"wb\")\n",
    "pickle.dump(forest_model, pickle_out1)\n",
    "pickle_out1.close()"
   ]
  },
  {
   "cell_type": "code",
   "execution_count": 66,
   "id": "cbd0f814",
   "metadata": {},
   "outputs": [
    {
     "data": {
      "text/html": [
       "<div>\n",
       "<style scoped>\n",
       "    .dataframe tbody tr th:only-of-type {\n",
       "        vertical-align: middle;\n",
       "    }\n",
       "\n",
       "    .dataframe tbody tr th {\n",
       "        vertical-align: top;\n",
       "    }\n",
       "\n",
       "    .dataframe thead th {\n",
       "        text-align: right;\n",
       "    }\n",
       "</style>\n",
       "<table border=\"1\" class=\"dataframe\">\n",
       "  <thead>\n",
       "    <tr style=\"text-align: right;\">\n",
       "      <th></th>\n",
       "      <th>property_type</th>\n",
       "      <th>city</th>\n",
       "      <th>province_name</th>\n",
       "      <th>baths</th>\n",
       "      <th>purpose</th>\n",
       "      <th>bedrooms</th>\n",
       "      <th>area_sqft</th>\n",
       "    </tr>\n",
       "  </thead>\n",
       "  <tbody>\n",
       "    <tr>\n",
       "      <th>105207</th>\n",
       "      <td>1</td>\n",
       "      <td>1</td>\n",
       "      <td>0</td>\n",
       "      <td>3</td>\n",
       "      <td>1</td>\n",
       "      <td>3</td>\n",
       "      <td>2123.56</td>\n",
       "    </tr>\n",
       "    <tr>\n",
       "      <th>54031</th>\n",
       "      <td>2</td>\n",
       "      <td>1</td>\n",
       "      <td>0</td>\n",
       "      <td>4</td>\n",
       "      <td>1</td>\n",
       "      <td>4</td>\n",
       "      <td>1089.00</td>\n",
       "    </tr>\n",
       "    <tr>\n",
       "      <th>134782</th>\n",
       "      <td>2</td>\n",
       "      <td>1</td>\n",
       "      <td>0</td>\n",
       "      <td>0</td>\n",
       "      <td>0</td>\n",
       "      <td>0</td>\n",
       "      <td>7078.53</td>\n",
       "    </tr>\n",
       "    <tr>\n",
       "      <th>81802</th>\n",
       "      <td>2</td>\n",
       "      <td>1</td>\n",
       "      <td>0</td>\n",
       "      <td>3</td>\n",
       "      <td>1</td>\n",
       "      <td>3</td>\n",
       "      <td>1361.25</td>\n",
       "    </tr>\n",
       "    <tr>\n",
       "      <th>143745</th>\n",
       "      <td>1</td>\n",
       "      <td>2</td>\n",
       "      <td>2</td>\n",
       "      <td>2</td>\n",
       "      <td>1</td>\n",
       "      <td>2</td>\n",
       "      <td>1143.45</td>\n",
       "    </tr>\n",
       "  </tbody>\n",
       "</table>\n",
       "</div>"
      ],
      "text/plain": [
       "        property_type  city  province_name  baths  purpose  bedrooms  \\\n",
       "105207              1     1              0      3        1         3   \n",
       "54031               2     1              0      4        1         4   \n",
       "134782              2     1              0      0        0         0   \n",
       "81802               2     1              0      3        1         3   \n",
       "143745              1     2              2      2        1         2   \n",
       "\n",
       "        area_sqft  \n",
       "105207    2123.56  \n",
       "54031     1089.00  \n",
       "134782    7078.53  \n",
       "81802     1361.25  \n",
       "143745    1143.45  "
      ]
     },
     "execution_count": 66,
     "metadata": {},
     "output_type": "execute_result"
    }
   ],
   "source": [
    "x_train.head()"
   ]
  },
  {
   "cell_type": "markdown",
   "id": "0d71e28c",
   "metadata": {},
   "source": [
    "# THE END..!!"
   ]
  }
 ],
 "metadata": {
  "kernelspec": {
   "display_name": "Python 3",
   "language": "python",
   "name": "python3"
  },
  "language_info": {
   "codemirror_mode": {
    "name": "ipython",
    "version": 3
   },
   "file_extension": ".py",
   "mimetype": "text/x-python",
   "name": "python",
   "nbconvert_exporter": "python",
   "pygments_lexer": "ipython3",
   "version": "3.8.8"
  }
 },
 "nbformat": 4,
 "nbformat_minor": 5
}
